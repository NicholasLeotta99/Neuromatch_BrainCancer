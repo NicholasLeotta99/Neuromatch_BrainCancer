{
 "cells": [
  {
   "cell_type": "markdown",
   "metadata": {
    "colab_type": "text",
    "id": "view-in-github"
   },
   "source": [
    "<a href=\"https://colab.research.google.com/github/NicholasLeotta99/Neuromatch_BrainCancer/blob/Nick/code/VGG19_Classifier_Test.ipynb\" target=\"_parent\"><img src=\"https://colab.research.google.com/assets/colab-badge.svg\" alt=\"Open In Colab\"/></a>"
   ]
  },
  {
   "cell_type": "code",
   "execution_count": 1,
   "metadata": {
    "id": "na7P0ewdyfg7"
   },
   "outputs": [
    {
     "name": "stdout",
     "output_type": "stream",
     "text": [
      "GPU is available\n"
     ]
    }
   ],
   "source": [
    "# @title Package Imports\n",
    "import torch\n",
    "import numpy as np\n",
    "import matplotlib.pyplot as plt\n",
    "\n",
    "import torch.nn as nn\n",
    "import torch.optim as optim\n",
    "import torchvision\n",
    "from torchvision.utils import make_grid\n",
    "from torch.utils.data import Dataset\n",
    "import torchvision.transforms as transforms\n",
    "from torchvision.datasets import ImageFolder\n",
    "from torch.utils.data import DataLoader, TensorDataset\n",
    "import torchvision.models as models\n",
    "#from torchsummary import summary\n",
    "\n",
    "import os\n",
    "#from google.colab import files\n",
    "from PIL import Image\n",
    "import subprocess\n",
    "\n",
    "import random\n",
    "random.seed(2023)\n",
    "if torch.cuda.is_available():\n",
    "  print(\"GPU is available\")\n",
    "else:\n",
    "  print(\"GPU is not available\")"
   ]
  },
  {
   "cell_type": "code",
   "execution_count": 2,
   "metadata": {
    "colab": {
     "base_uri": "https://localhost:8080/",
     "height": 142
    },
    "id": "G6yDHTe5yqeZ",
    "outputId": "0631441e-0178-45c0-daf2-7b800579cdf6"
   },
   "outputs": [
    {
     "name": "stdout",
     "output_type": "stream",
     "text": [
      "Colab initialization failed\n",
      "Warning: Your Kaggle API key is readable by other users on this system! To fix this, you can run 'chmod 600 /home/nicholas/.kaggle/kaggle.json'\n",
      "Downloading brain-tumor-mri-dataset.zip to /home/nicholas/Neuromatch_BrainCancer/code\n",
      "100%|███████████████████████████████████████▊| 148M/149M [00:03<00:00, 43.0MB/s]\n",
      "100%|████████████████████████████████████████| 149M/149M [00:03<00:00, 41.4MB/s]\n"
     ]
    }
   ],
   "source": [
    "# @title Data Loading\n",
    "if os.path.isdir('./Training'):\n",
    "    !rm ./Training/ -d -r\n",
    "    !rm ./Testing/ -d -r\n",
    "    !rm ./Validation/ -d -r\n",
    "try:\n",
    "    from google.colab import files\n",
    "    if not os.path.isfile('./.kaggle/kaggle.json'):\n",
    "        print('Upload kaggle.json account information to download the dataset:')\n",
    "        files.upload()\n",
    "        !mkdir -p ~/.kaggle\n",
    "        !mv kaggle.json ~/.kaggle/\n",
    "        !chmod 600 /root/.kaggle/kaggle.json\n",
    "except:\n",
    "    print('Colab initialization failed')\n",
    "!kaggle datasets download -d masoudnickparvar/brain-tumor-mri-dataset --force\n",
    "!unzip -q brain-tumor-mri-dataset.zip "
   ]
  },
  {
   "cell_type": "code",
   "execution_count": 3,
   "metadata": {
    "id": "6chRx3JyohT1"
   },
   "outputs": [],
   "source": [
    "# @title Subsampling Validation Data\n",
    "\n",
    "if not os.path.isdir('./Validation/'):\n",
    "  os.mkdir('./Validation/')\n",
    "  classes = os.listdir('./Training/')\n",
    "  training_samples = []\n",
    "  for i in classes:\n",
    "    os.mkdir(f'./Validation/{i}/')\n",
    "    files = os.listdir(f'./Training/{i}/')\n",
    "    for f in files:\n",
    "      training_samples.append(f'/{i}/{f}')\n",
    "  random.shuffle(training_samples)\n",
    "  validation_samples = training_samples[0:1100]\n",
    "  training_samples = training_samples[1100:]\n",
    "  for samp in validation_samples:\n",
    "    os.rename(f'./Training{samp}', f'./Validation{samp}')\n"
   ]
  },
  {
   "cell_type": "code",
   "execution_count": 4,
   "metadata": {
    "colab": {
     "base_uri": "https://localhost:8080/"
    },
    "id": "YoHoOxXWrVyr",
    "outputId": "19bcd817-019b-4c67-9367-e18b77300bff"
   },
   "outputs": [
    {
     "data": {
      "text/plain": [
       "VGG(\n",
       "  (features): Sequential(\n",
       "    (0): Conv2d(3, 64, kernel_size=(3, 3), stride=(1, 1), padding=(1, 1))\n",
       "    (1): ReLU(inplace=True)\n",
       "    (2): Conv2d(64, 64, kernel_size=(3, 3), stride=(1, 1), padding=(1, 1))\n",
       "    (3): ReLU(inplace=True)\n",
       "    (4): MaxPool2d(kernel_size=2, stride=2, padding=0, dilation=1, ceil_mode=False)\n",
       "    (5): Conv2d(64, 128, kernel_size=(3, 3), stride=(1, 1), padding=(1, 1))\n",
       "    (6): ReLU(inplace=True)\n",
       "    (7): Conv2d(128, 128, kernel_size=(3, 3), stride=(1, 1), padding=(1, 1))\n",
       "    (8): ReLU(inplace=True)\n",
       "    (9): MaxPool2d(kernel_size=2, stride=2, padding=0, dilation=1, ceil_mode=False)\n",
       "    (10): Conv2d(128, 256, kernel_size=(3, 3), stride=(1, 1), padding=(1, 1))\n",
       "    (11): ReLU(inplace=True)\n",
       "    (12): Conv2d(256, 256, kernel_size=(3, 3), stride=(1, 1), padding=(1, 1))\n",
       "    (13): ReLU(inplace=True)\n",
       "    (14): Conv2d(256, 256, kernel_size=(3, 3), stride=(1, 1), padding=(1, 1))\n",
       "    (15): ReLU(inplace=True)\n",
       "    (16): Conv2d(256, 256, kernel_size=(3, 3), stride=(1, 1), padding=(1, 1))\n",
       "    (17): ReLU(inplace=True)\n",
       "    (18): MaxPool2d(kernel_size=2, stride=2, padding=0, dilation=1, ceil_mode=False)\n",
       "    (19): Conv2d(256, 512, kernel_size=(3, 3), stride=(1, 1), padding=(1, 1))\n",
       "    (20): ReLU(inplace=True)\n",
       "    (21): Conv2d(512, 512, kernel_size=(3, 3), stride=(1, 1), padding=(1, 1))\n",
       "    (22): ReLU(inplace=True)\n",
       "    (23): Conv2d(512, 512, kernel_size=(3, 3), stride=(1, 1), padding=(1, 1))\n",
       "    (24): ReLU(inplace=True)\n",
       "    (25): Conv2d(512, 512, kernel_size=(3, 3), stride=(1, 1), padding=(1, 1))\n",
       "    (26): ReLU(inplace=True)\n",
       "    (27): MaxPool2d(kernel_size=2, stride=2, padding=0, dilation=1, ceil_mode=False)\n",
       "    (28): Conv2d(512, 512, kernel_size=(3, 3), stride=(1, 1), padding=(1, 1))\n",
       "    (29): ReLU(inplace=True)\n",
       "    (30): Conv2d(512, 512, kernel_size=(3, 3), stride=(1, 1), padding=(1, 1))\n",
       "    (31): ReLU(inplace=True)\n",
       "    (32): Conv2d(512, 512, kernel_size=(3, 3), stride=(1, 1), padding=(1, 1))\n",
       "    (33): ReLU(inplace=True)\n",
       "    (34): Conv2d(512, 512, kernel_size=(3, 3), stride=(1, 1), padding=(1, 1))\n",
       "    (35): ReLU(inplace=True)\n",
       "    (36): MaxPool2d(kernel_size=2, stride=2, padding=0, dilation=1, ceil_mode=False)\n",
       "  )\n",
       "  (avgpool): AdaptiveAvgPool2d(output_size=(7, 7))\n",
       "  (classifier): Sequential(\n",
       "    (0): Linear(in_features=25088, out_features=4096, bias=True)\n",
       "    (1): ReLU(inplace=True)\n",
       "    (2): Dropout(p=0.5, inplace=False)\n",
       "    (3): Linear(in_features=4096, out_features=4096, bias=True)\n",
       "    (4): ReLU(inplace=True)\n",
       "    (5): Dropout(p=0.5, inplace=False)\n",
       "    (6): Linear(in_features=4096, out_features=4, bias=True)\n",
       "  )\n",
       ")"
      ]
     },
     "execution_count": 4,
     "metadata": {},
     "output_type": "execute_result"
    }
   ],
   "source": [
    "# @title Loading Model\n",
    "Classifier = models.vgg19(weights='DEFAULT')\n",
    "#Replace the classifying linear network with one with custom number of output classes\n",
    "num_features = Classifier.classifier[-1].in_features\n",
    "Classifier.classifier[-1] = nn.Linear(num_features, 4)\n",
    "Classifier.to('cuda')\n",
    "#summary(Classifier, (3, 256, 256))"
   ]
  },
  {
   "cell_type": "code",
   "execution_count": 10,
   "metadata": {
    "colab": {
     "base_uri": "https://localhost:8080/",
     "height": 487
    },
    "id": "VA46oIgl_qet",
    "outputId": "4efb7a78-7ba6-4537-d310-3d90c6c93662"
   },
   "outputs": [
    {
     "name": "stdout",
     "output_type": "stream",
     "text": [
      "0 tensor([0, 1, 1, 0, 0, 2, 2, 2, 0, 1, 0, 0, 3, 2, 0, 2])\n",
      "torch.Size([16, 3, 256, 256])\n"
     ]
    },
    {
     "data": {
      "image/png": "[encoded data removed]",
      "text/plain": [
       "<Figure size 640x480 with 1 Axes>"
      ]
     },
     "metadata": {},
     "output_type": "display_data"
    }
   ],
   "source": [
    "# @title Dataset Generation\n",
    "#TODO - Verify labels correspond to classes\n",
    "data_transf = transforms.Compose([\n",
    "transforms.Resize((256, 256)),\n",
    "transforms.ToTensor()])\n",
    "\n",
    "TrainingDataset = ImageFolder(root='./Training/', transform=data_transf)#, transform=torchvision.models.VGG19_Weights.IMAGENET1K_V1.transforms)\n",
    "TrainingLoader = DataLoader(TrainingDataset, batch_size=16, shuffle=True)\n",
    "\n",
    "ValidationDataset = ImageFolder(root='./Validation/', transform=data_transf)#, transform=torchvision.models.VGG19_Weights.IMAGENET1K_V1.transforms)\n",
    "ValidationLoader = DataLoader(ValidationDataset, batch_size=16, shuffle=True)\n",
    "\n",
    "TestDataset = ImageFolder(root='./Testing/', transform=data_transf)#, transform=torchvision.models.VGG19_Weights.IMAGENET1K_V1.transforms)\n",
    "TestLoader = DataLoader(TestDataset, batch_size=16, shuffle=True)\n",
    "\n",
    "classes = os.listdir('./Training/')\n",
    "for batch_number , (images, labels) in enumerate(TrainingLoader):\n",
    "  print(batch_number, labels)\n",
    "  print(images.shape)\n",
    "  plt.imshow(torch.moveaxis(images[0], 0, -1))\n",
    "  plt.title(classes[labels[0]])\n",
    "  plt.show()\n",
    "  break"
   ]
  },
  {
   "cell_type": "code",
   "execution_count": 6,
   "metadata": {
    "id": "q-ACyWv3qsGh"
   },
   "outputs": [],
   "source": [
    "# Cross Entropy Loss for categorization\n",
    "loss_fn = torch.nn.CrossEntropyLoss()\n",
    "optimizer = torch.optim.SGD(Classifier.parameters(), lr=0.005, momentum=.5)\n",
    "\n",
    "\n",
    "def calc_accuracy(prediction, label):\n",
    "    prediction = torch.argmax(prediction, axis=1)\n",
    "    return (prediction == label).sum()/len(label) * 100\n",
    "\n",
    "def train_plot(loss, acc, val_loss, val_acc):\n",
    "    plt.figure(figsize=(20,20))\n",
    "    plt.subplot(2,1,1)\n",
    "    plt.title('Loss')\n",
    "    plt.plot(loss, label='training')\n",
    "    plt.plot(val_loss, label='validation')\n",
    "    plt.legend()\n",
    "    plt.subplot(2,1,2)\n",
    "    plt.title('Accuracy')\n",
    "    plt.plot(acc, label='training')\n",
    "    plt.plot(val_acc, label='validation')\n",
    "    plt.legend()\n",
    "    \n",
    "def one_epoch(epoch_index):\n",
    "    current_loss = 0\n",
    "    running_loss = 0\n",
    "    val_running_loss = 0\n",
    "    acc = []\n",
    "    val_acc = []\n",
    "\n",
    "    for i, data in enumerate(TrainingLoader):\n",
    "        inputs, labels = data\n",
    "\n",
    "        inputs = inputs.to('cuda')\n",
    "        labels = labels.to('cuda')\n",
    "        optimizer.zero_grad()\n",
    "        outputs = Classifier(inputs)\n",
    "        acc.append(calc_accuracy(outputs, labels))\n",
    "        loss = loss_fn(outputs, labels)\n",
    "        loss.backward()\n",
    "\n",
    "        optimizer.step()\n",
    "\n",
    "        current_loss += loss.item()\n",
    "        running_loss += loss.item()\n",
    "        if i % 10 == 9:\n",
    "            print(f'Epoch {epoch_index + 1}, Batch {i + 1}, Loss: {current_loss / 10:.3f}, Running Accuracy {sum(acc)/(i+1)}')\n",
    "            current_loss = 0.0\n",
    "    \n",
    "    print(f'Epoch {epoch_index + 1}, Total Loss: {running_loss}, Total Accuracy: {sum(acc)/(i+1)}')\n",
    "    print('Validating...')\n",
    "    for j, data in enumerate(ValidationLoader):\n",
    "        inputs, labels = data\n",
    "        inputs = inputs.to('cuda')\n",
    "        labels = labels.to('cuda')\n",
    "        outputs = Classifier(inputs)\n",
    "        val_acc.append(calc_accuracy(outputs, labels))\n",
    "        loss = loss_fn(outputs, labels)\n",
    "        val_running_loss += loss.item()\n",
    "    print(f'Epoch{epoch_index + 1}, Validation Loss: {val_running_loss}, Validation Accuracy {sum(val_acc)/(j+1)}')\n",
    "    return running_loss, sum(acc)/(i+1), val_running_loss, sum(val_acc)/(j+1)"
   ]
  },
  {
   "cell_type": "code",
   "execution_count": 7,
   "metadata": {
    "colab": {
     "base_uri": "https://localhost:8080/",
     "height": 363
    },
    "id": "QxvD6GVlt1CD",
    "outputId": "a4153b79-788e-4e27-851a-2f489d06aee0"
   },
   "outputs": [
    {
     "name": "stderr",
     "output_type": "stream",
     "text": [
      "/home/nicholas/anaconda3/envs/Neuro/lib/python3.11/site-packages/torch/nn/modules/conv.py:459: UserWarning: Applied workaround for CuDNN issue, install nvrtc.so (Triggered internally at /opt/conda/conda-bld/pytorch_1682343995622/work/aten/src/ATen/native/cudnn/Conv_v8.cpp:80.)\n",
      "  return F.conv2d(input, weight, bias, self.stride,\n"
     ]
    },
    {
     "name": "stdout",
     "output_type": "stream",
     "text": [
      "Epoch 1, Batch 10, Loss: 1.203, Running Accuracy 48.125\n",
      "Epoch 1, Batch 20, Loss: 0.956, Running Accuracy 55.9375\n",
      "Epoch 1, Batch 30, Loss: 0.869, Running Accuracy 58.958335876464844\n",
      "Epoch 1, Batch 40, Loss: 0.774, Running Accuracy 62.1875\n",
      "Epoch 1, Batch 50, Loss: 0.577, Running Accuracy 65.625\n",
      "Epoch 1, Batch 60, Loss: 0.555, Running Accuracy 67.8125\n",
      "Epoch 1, Batch 70, Loss: 0.383, Running Accuracy 70.35713958740234\n",
      "Epoch 1, Batch 80, Loss: 0.803, Running Accuracy 70.859375\n",
      "Epoch 1, Batch 90, Loss: 0.564, Running Accuracy 71.80555725097656\n",
      "Epoch 1, Batch 100, Loss: 0.350, Running Accuracy 73.4375\n",
      "Epoch 1, Batch 110, Loss: 0.352, Running Accuracy 74.6022720336914\n",
      "Epoch 1, Batch 120, Loss: 0.193, Running Accuracy 76.25000762939453\n",
      "Epoch 1, Batch 130, Loss: 0.305, Running Accuracy 77.25961303710938\n",
      "Epoch 1, Batch 140, Loss: 0.155, Running Accuracy 78.4375\n",
      "Epoch 1, Batch 150, Loss: 0.233, Running Accuracy 79.33333587646484\n",
      "Epoch 1, Batch 160, Loss: 0.397, Running Accuracy 79.5703125\n",
      "Epoch 1, Batch 170, Loss: 0.284, Running Accuracy 80.14705657958984\n",
      "Epoch 1, Batch 180, Loss: 0.294, Running Accuracy 80.69444274902344\n",
      "Epoch 1, Batch 190, Loss: 0.425, Running Accuracy 80.78947448730469\n",
      "Epoch 1, Batch 200, Loss: 0.383, Running Accuracy 81.09375\n",
      "Epoch 1, Batch 210, Loss: 0.374, Running Accuracy 81.39881134033203\n",
      "Epoch 1, Batch 220, Loss: 0.192, Running Accuracy 81.93181610107422\n",
      "Epoch 1, Batch 230, Loss: 0.296, Running Accuracy 82.25543212890625\n",
      "Epoch 1, Batch 240, Loss: 0.278, Running Accuracy 82.55208587646484\n",
      "Epoch 1, Batch 250, Loss: 0.347, Running Accuracy 82.85000610351562\n",
      "Epoch 1, Batch 260, Loss: 0.283, Running Accuracy 83.07691955566406\n",
      "Epoch 1, Batch 270, Loss: 0.175, Running Accuracy 83.47222137451172\n",
      "Epoch 1, Batch 280, Loss: 0.296, Running Accuracy 83.70536041259766\n",
      "Epoch 1, Total Loss: 124.9346174467355, Total Accuracy: 83.97491455078125\n",
      "Validating...\n",
      "Epoch1, Validation Loss: 13.132611806504428, Validation Accuracy 93.26690673828125\n",
      "Epoch 2, Batch 10, Loss: 0.165, Running Accuracy 95.0\n",
      "Epoch 2, Batch 20, Loss: 0.238, Running Accuracy 93.4375\n",
      "Epoch 2, Batch 30, Loss: 0.177, Running Accuracy 92.50000762939453\n",
      "Epoch 2, Batch 40, Loss: 0.247, Running Accuracy 92.03125\n",
      "Epoch 2, Batch 50, Loss: 0.097, Running Accuracy 93.125\n",
      "Epoch 2, Batch 60, Loss: 0.073, Running Accuracy 93.95833587646484\n",
      "Epoch 2, Batch 70, Loss: 0.185, Running Accuracy 94.01786041259766\n",
      "Epoch 2, Batch 80, Loss: 0.140, Running Accuracy 94.140625\n",
      "Epoch 2, Batch 90, Loss: 0.169, Running Accuracy 94.16667175292969\n",
      "Epoch 2, Batch 100, Loss: 0.182, Running Accuracy 94.0625\n",
      "Epoch 2, Batch 110, Loss: 0.170, Running Accuracy 94.03408813476562\n",
      "Epoch 2, Batch 120, Loss: 0.161, Running Accuracy 94.01042175292969\n",
      "Epoch 2, Batch 130, Loss: 0.101, Running Accuracy 94.13461303710938\n",
      "Epoch 2, Batch 140, Loss: 0.144, Running Accuracy 94.24107360839844\n",
      "Epoch 2, Batch 150, Loss: 0.088, Running Accuracy 94.5\n",
      "Epoch 2, Batch 160, Loss: 0.118, Running Accuracy 94.5703125\n",
      "Epoch 2, Batch 170, Loss: 0.299, Running Accuracy 94.3382339477539\n",
      "Epoch 2, Batch 180, Loss: 0.123, Running Accuracy 94.34027862548828\n",
      "Epoch 2, Batch 190, Loss: 0.102, Running Accuracy 94.47368621826172\n",
      "Epoch 2, Batch 200, Loss: 0.130, Running Accuracy 94.53125\n",
      "Epoch 2, Batch 210, Loss: 0.130, Running Accuracy 94.52381134033203\n",
      "Epoch 2, Batch 220, Loss: 0.102, Running Accuracy 94.51704406738281\n",
      "Epoch 2, Batch 230, Loss: 0.131, Running Accuracy 94.56521606445312\n",
      "Epoch 2, Batch 240, Loss: 0.136, Running Accuracy 94.53125762939453\n",
      "Epoch 2, Batch 250, Loss: 0.085, Running Accuracy 94.60000610351562\n",
      "Epoch 2, Batch 260, Loss: 0.133, Running Accuracy 94.61538696289062\n",
      "Epoch 2, Batch 270, Loss: 0.173, Running Accuracy 94.62963104248047\n",
      "Epoch 2, Batch 280, Loss: 0.136, Running Accuracy 94.6875\n",
      "Epoch 2, Total Loss: 42.56947349163238, Total Accuracy: 94.74481201171875\n",
      "Validating...\n",
      "Epoch2, Validation Loss: 8.43108275346458, Validation Accuracy 95.62197875976562\n",
      "Epoch 3, Batch 10, Loss: 0.026, Running Accuracy 99.375\n",
      "Epoch 3, Batch 20, Loss: 0.046, Running Accuracy 99.0625\n",
      "Epoch 3, Batch 30, Loss: 0.072, Running Accuracy 98.12500762939453\n",
      "Epoch 3, Batch 40, Loss: 0.066, Running Accuracy 97.96875\n",
      "Epoch 3, Batch 50, Loss: 0.066, Running Accuracy 98.0\n",
      "Epoch 3, Batch 60, Loss: 0.054, Running Accuracy 98.12500762939453\n",
      "Epoch 3, Batch 70, Loss: 0.077, Running Accuracy 97.85714721679688\n",
      "Epoch 3, Batch 80, Loss: 0.088, Running Accuracy 97.65625\n",
      "Epoch 3, Batch 90, Loss: 0.165, Running Accuracy 97.43055725097656\n",
      "Epoch 3, Batch 100, Loss: 0.066, Running Accuracy 97.375\n",
      "Epoch 3, Batch 110, Loss: 0.078, Running Accuracy 97.5\n",
      "Epoch 3, Batch 120, Loss: 0.034, Running Accuracy 97.60417175292969\n",
      "Epoch 3, Batch 130, Loss: 0.025, Running Accuracy 97.74038696289062\n",
      "Epoch 3, Batch 140, Loss: 0.017, Running Accuracy 97.90178680419922\n",
      "Epoch 3, Batch 150, Loss: 0.050, Running Accuracy 97.95833587646484\n",
      "Epoch 3, Batch 160, Loss: 0.024, Running Accuracy 98.046875\n",
      "Epoch 3, Batch 170, Loss: 0.085, Running Accuracy 98.05147552490234\n",
      "Epoch 3, Batch 180, Loss: 0.052, Running Accuracy 98.125\n",
      "Epoch 3, Batch 190, Loss: 0.124, Running Accuracy 98.05921173095703\n",
      "Epoch 3, Batch 200, Loss: 0.059, Running Accuracy 98.0625\n",
      "Epoch 3, Batch 210, Loss: 0.053, Running Accuracy 98.09524536132812\n",
      "Epoch 3, Batch 220, Loss: 0.072, Running Accuracy 98.06817626953125\n",
      "Epoch 3, Batch 230, Loss: 0.260, Running Accuracy 97.74456024169922\n",
      "Epoch 3, Batch 240, Loss: 0.108, Running Accuracy 97.65625762939453\n",
      "Epoch 3, Batch 250, Loss: 0.060, Running Accuracy 97.62500762939453\n",
      "Epoch 3, Batch 260, Loss: 0.047, Running Accuracy 97.66826629638672\n",
      "Epoch 3, Batch 270, Loss: 0.021, Running Accuracy 97.73148345947266\n",
      "Epoch 3, Batch 280, Loss: 0.037, Running Accuracy 97.74553680419922\n",
      "Epoch 3, Total Loss: 19.47260936337989, Total Accuracy: 97.81575012207031\n",
      "Validating...\n",
      "Epoch3, Validation Loss: 13.42055935622193, Validation Accuracy 94.65579986572266\n",
      "Epoch 4, Batch 10, Loss: 0.045, Running Accuracy 97.5\n",
      "Epoch 4, Batch 20, Loss: 0.021, Running Accuracy 98.4375\n",
      "Epoch 4, Batch 30, Loss: 0.028, Running Accuracy 98.54167175292969\n",
      "Epoch 4, Batch 40, Loss: 0.045, Running Accuracy 98.28125\n",
      "Epoch 4, Batch 50, Loss: 0.090, Running Accuracy 98.25\n",
      "Epoch 4, Batch 60, Loss: 0.053, Running Accuracy 98.12500762939453\n",
      "Epoch 4, Batch 70, Loss: 0.091, Running Accuracy 97.94642639160156\n",
      "Epoch 4, Batch 80, Loss: 0.031, Running Accuracy 98.046875\n",
      "Epoch 4, Batch 90, Loss: 0.030, Running Accuracy 98.19445037841797\n",
      "Epoch 4, Batch 100, Loss: 0.040, Running Accuracy 98.25\n",
      "Epoch 4, Batch 110, Loss: 0.074, Running Accuracy 98.125\n",
      "Epoch 4, Batch 120, Loss: 0.031, Running Accuracy 98.17708587646484\n",
      "Epoch 4, Batch 130, Loss: 0.012, Running Accuracy 98.31730651855469\n",
      "Epoch 4, Batch 140, Loss: 0.013, Running Accuracy 98.4375\n",
      "Epoch 4, Batch 150, Loss: 0.184, Running Accuracy 98.125\n",
      "Epoch 4, Batch 160, Loss: 0.051, Running Accuracy 98.125\n",
      "Epoch 4, Batch 170, Loss: 0.037, Running Accuracy 98.1617660522461\n",
      "Epoch 4, Batch 180, Loss: 0.036, Running Accuracy 98.15972137451172\n",
      "Epoch 4, Batch 190, Loss: 0.031, Running Accuracy 98.1907958984375\n",
      "Epoch 4, Batch 200, Loss: 0.031, Running Accuracy 98.25\n",
      "Epoch 4, Batch 210, Loss: 0.011, Running Accuracy 98.33333587646484\n",
      "Epoch 4, Batch 220, Loss: 0.007, Running Accuracy 98.40908813476562\n",
      "Epoch 4, Batch 230, Loss: 0.018, Running Accuracy 98.42391204833984\n",
      "Epoch 4, Batch 240, Loss: 0.022, Running Accuracy 98.43750762939453\n",
      "Epoch 4, Batch 250, Loss: 0.017, Running Accuracy 98.47500610351562\n",
      "Epoch 4, Batch 260, Loss: 0.011, Running Accuracy 98.50961303710938\n",
      "Epoch 4, Batch 270, Loss: 0.032, Running Accuracy 98.51851654052734\n",
      "Epoch 4, Batch 280, Loss: 0.033, Running Accuracy 98.54911041259766\n",
      "Epoch 4, Total Loss: 12.014908973042111, Total Accuracy: 98.5077896118164\n",
      "Validating...\n",
      "Epoch4, Validation Loss: 7.162235934607452, Validation Accuracy 97.28260803222656\n",
      "Epoch 5, Batch 10, Loss: 0.003, Running Accuracy 100.0\n",
      "Epoch 5, Batch 20, Loss: 0.024, Running Accuracy 99.375\n",
      "Epoch 5, Batch 30, Loss: 0.006, Running Accuracy 99.58333587646484\n",
      "Epoch 5, Batch 40, Loss: 0.003, Running Accuracy 99.6875\n",
      "Epoch 5, Batch 50, Loss: 0.009, Running Accuracy 99.75\n",
      "Epoch 5, Batch 60, Loss: 0.004, Running Accuracy 99.79167175292969\n"
     ]
    },
    {
     "name": "stdout",
     "output_type": "stream",
     "text": [
      "Epoch 5, Batch 70, Loss: 0.001, Running Accuracy 99.82142639160156\n",
      "Epoch 5, Batch 80, Loss: 0.061, Running Accuracy 99.765625\n",
      "Epoch 5, Batch 90, Loss: 0.008, Running Accuracy 99.79167175292969\n",
      "Epoch 5, Batch 100, Loss: 0.030, Running Accuracy 99.75\n",
      "Epoch 5, Batch 110, Loss: 0.071, Running Accuracy 99.48863220214844\n",
      "Epoch 5, Batch 120, Loss: 0.029, Running Accuracy 99.42708587646484\n",
      "Epoch 5, Batch 130, Loss: 0.035, Running Accuracy 99.375\n",
      "Epoch 5, Batch 140, Loss: 0.016, Running Accuracy 99.375\n",
      "Epoch 5, Batch 150, Loss: 0.017, Running Accuracy 99.375\n",
      "Epoch 5, Batch 160, Loss: 0.013, Running Accuracy 99.375\n",
      "Epoch 5, Batch 170, Loss: 0.002, Running Accuracy 99.4117660522461\n",
      "Epoch 5, Batch 180, Loss: 0.004, Running Accuracy 99.44445037841797\n",
      "Epoch 5, Batch 190, Loss: 0.007, Running Accuracy 99.47368621826172\n",
      "Epoch 5, Batch 200, Loss: 0.006, Running Accuracy 99.5\n",
      "Epoch 5, Batch 210, Loss: 0.012, Running Accuracy 99.49404907226562\n",
      "Epoch 5, Batch 220, Loss: 0.003, Running Accuracy 99.51704406738281\n",
      "Epoch 5, Batch 230, Loss: 0.005, Running Accuracy 99.53804016113281\n",
      "Epoch 5, Batch 240, Loss: 0.003, Running Accuracy 99.55729675292969\n",
      "Epoch 5, Batch 250, Loss: 0.005, Running Accuracy 99.57500457763672\n",
      "Epoch 5, Batch 260, Loss: 0.006, Running Accuracy 99.59134674072266\n",
      "Epoch 5, Batch 270, Loss: 0.010, Running Accuracy 99.60648345947266\n",
      "Epoch 5, Batch 280, Loss: 0.002, Running Accuracy 99.62053680419922\n",
      "Epoch 5, Total Loss: 3.936925848003739, Total Accuracy: 99.63235473632812\n",
      "Validating...\n",
      "Epoch5, Validation Loss: 5.838931408642566, Validation Accuracy 97.19203186035156\n"
     ]
    }
   ],
   "source": [
    "loss = []\n",
    "val_loss = []\n",
    "acc = []\n",
    "val_acc = []\n",
    "'''\n",
    "for i in range(0,5):\n",
    "    V = one_epoch(i)\n",
    "    loss.append(V[0])\n",
    "    acc.append(V[1].cpu())\n",
    "    val_loss.append(V[2])\n",
    "    val_acc.append(V[3].cpu())\n",
    "    '''"
   ]
  },
  {
   "cell_type": "code",
   "execution_count": 15,
   "metadata": {},
   "outputs": [
    {
     "data": {
      "text/plain": [
       "4612"
      ]
     },
     "execution_count": 15,
     "metadata": {},
     "output_type": "execute_result"
    }
   ],
   "source": [
    "#train_plot(loss, acc, val_loss, val_acc) \n",
    "len(TrainingLoader.dataset)"
   ]
  },
  {
   "cell_type": "code",
   "execution_count": null,
   "metadata": {},
   "outputs": [],
   "source": [
    "class Brain_Classifier():\n",
    "    # WIP!!!! Still building\n",
    "    # Class to assist with training and evaluation of our Brain Tumor Classification model\n",
    "    \n",
    "    def __init__(self, model, train_dir='./Training', val_dir='./Validation', test_dir='./Testing'):\n",
    "        self.Model = model\n",
    "        \n",
    "        self.train_dir = train_dir\n",
    "        self.val_dir = val_dir\n",
    "        self.test_dir = test_dir\n",
    "        self.build_loader()\n",
    "        \n",
    "        self.loss_fn = torch.nn.CrossEntropyLoss()\n",
    "        self.optimizer = torch.optim.SGD(self.Model.parameters(), lr=0.005, momentum=.5)\n",
    "        \n",
    "    def build_loader(self):\n",
    "        #Build the data loaders for training and evaluation\n",
    "        data_transf = transforms.Compose([\n",
    "            transforms.Resize((256, 256)),\n",
    "            transforms.ToTensor()])\n",
    "        self.TrainData = DataLoader(ImageFolder(root=self.train_dir, transform=data_transf),\n",
    "                             batch_size = 16, shuffle=True)\n",
    "        self.ValData = DataLoader(ImageFolder(root=self.val_dir, transform=data_transf),\n",
    "                             batch_size = 16, shuffle=True)\n",
    "        self.TestData = DataLoader(ImageFolder(root=self.test_dir, transform=data_transf),\n",
    "                             batch_size = 16, shuffle=True)\n",
    "        \n",
    "    def run_epoch(self, train=False, data='validation'):\n",
    "        if data == 'train': dataset = self.TrainData\n",
    "        elif data == 'validation': dataset = self.ValData\n",
    "                \n",
    "        current_loss = 0\n",
    "        for i, j in enumerate(dataset):\n",
    "            if train: self.optimizer.zero_grad()\n",
    "                \n",
    "            inputs, labels = j\n",
    "            inputs = inputs.to('cuda')\n",
    "            labels = labels.to('cuda')\n",
    "            \n",
    "            outputs = self.Model(inputs)\n",
    "            loss = self.loss_fn(outputs, labels)\n",
    "            if train: loss.backward(), self.optimizer.step()\n",
    "            \n",
    "            current_loss += loss.item()\n",
    "        return current_loss / len(dataset.dataset)\n",
    "    \n",
    "    def train(self, n_epochs):\n",
    "        train_loss = []\n",
    "        for i in range(0, n_epochs):\n",
    "            loss = self.run_epoch(train=True, data='train')\n",
    "            train_loss.append(loss)\n",
    "        print(train_loss)\n",
    "        \n",
    "A = Brain_Classifier(Classifier)\n",
    "A.train(1)\n",
    "        "
   ]
  },
  {
   "cell_type": "code",
   "execution_count": null,
   "metadata": {},
   "outputs": [],
   "source": []
  }
 ],
 "metadata": {
  "accelerator": "GPU",
  "colab": {
   "authorship_tag": "ABX9TyP70nPwvR++o4mkj5c4EI6M",
   "gpuType": "T4",
   "include_colab_link": true,
   "provenance": []
  },
  "kernelspec": {
   "display_name": "Python 3 (ipykernel)",
   "language": "python",
   "name": "python3"
  },
  "language_info": {
   "codemirror_mode": {
    "name": "ipython",
    "version": 3
   },
   "file_extension": ".py",
   "mimetype": "text/x-python",
   "name": "python",
   "nbconvert_exporter": "python",
   "pygments_lexer": "ipython3",
   "version": "3.11.4"
  }
 },
 "nbformat": 4,
 "nbformat_minor": 1
}
