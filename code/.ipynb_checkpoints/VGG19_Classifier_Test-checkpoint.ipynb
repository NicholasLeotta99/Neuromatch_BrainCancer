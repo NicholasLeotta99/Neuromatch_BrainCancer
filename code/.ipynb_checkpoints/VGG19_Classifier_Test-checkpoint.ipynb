{
 "cells": [
  {
   "cell_type": "markdown",
   "metadata": {
    "colab_type": "text",
    "id": "view-in-github"
   },
   "source": [
    "<a href=\"https://colab.research.google.com/github/NicholasLeotta99/Neuromatch_BrainCancer/blob/Nick/code/VGG19_Classifier_Test.ipynb\" target=\"_parent\"><img src=\"https://colab.research.google.com/assets/colab-badge.svg\" alt=\"Open In Colab\"/></a>"
   ]
  },
  {
   "cell_type": "code",
   "execution_count": 1,
   "metadata": {
    "id": "na7P0ewdyfg7"
   },
   "outputs": [
    {
     "ename": "ModuleNotFoundError",
     "evalue": "No module named 'torch'",
     "output_type": "error",
     "traceback": [
      "\u001b[1;31m---------------------------------------------------------------------------\u001b[0m",
      "\u001b[1;31mModuleNotFoundError\u001b[0m                       Traceback (most recent call last)",
      "Cell \u001b[1;32mIn[1], line 2\u001b[0m\n\u001b[0;32m      1\u001b[0m \u001b[38;5;66;03m# @title Package Imports\u001b[39;00m\n\u001b[1;32m----> 2\u001b[0m \u001b[38;5;28;01mimport\u001b[39;00m \u001b[38;5;21;01mtorch\u001b[39;00m\n\u001b[0;32m      3\u001b[0m \u001b[38;5;28;01mimport\u001b[39;00m \u001b[38;5;21;01mnumpy\u001b[39;00m \u001b[38;5;28;01mas\u001b[39;00m \u001b[38;5;21;01mnp\u001b[39;00m\n\u001b[0;32m      4\u001b[0m \u001b[38;5;28;01mimport\u001b[39;00m \u001b[38;5;21;01mmatplotlib\u001b[39;00m\u001b[38;5;21;01m.\u001b[39;00m\u001b[38;5;21;01mpyplot\u001b[39;00m \u001b[38;5;28;01mas\u001b[39;00m \u001b[38;5;21;01mplt\u001b[39;00m\n",
      "\u001b[1;31mModuleNotFoundError\u001b[0m: No module named 'torch'"
     ]
    }
   ],
   "source": [
    "# @title Package Imports\n",
    "import torch\n",
    "import numpy as np\n",
    "import matplotlib.pyplot as plt\n",
    "\n",
    "import torch.nn as nn\n",
    "import torch.optim as optim\n",
    "import torchvision\n",
    "from torchvision.utils import make_grid\n",
    "from torch.utils.data import Dataset\n",
    "import torchvision.transforms as transforms\n",
    "from torchvision.datasets import ImageFolder\n",
    "from torch.utils.data import DataLoader, TensorDataset\n",
    "import torchvision.models as models\n",
    "from torchsummary import summary\n",
    "\n",
    "import os\n",
    "from google.colab import files\n",
    "from PIL import Image\n",
    "import subprocess\n",
    "\n",
    "import random\n",
    "random.seed(2023)\n"
   ]
  },
  {
   "cell_type": "code",
   "execution_count": null,
   "metadata": {
    "colab": {
     "base_uri": "https://localhost:8080/",
     "height": 142
    },
    "id": "G6yDHTe5yqeZ",
    "outputId": "0631441e-0178-45c0-daf2-7b800579cdf6"
   },
   "outputs": [],
   "source": [
    "# @title Data Loading\n",
    "print('Upload kaggle.json account information to download the dataset:')\n",
    "files.upload()\n",
    "!mkdir -p ~/.kaggle\n",
    "!mv kaggle.json ~/.kaggle/\n",
    "!chmod 600 /root/.kaggle/kaggle.json\n",
    "!kaggle datasets download -d masoudnickparvar/brain-tumor-mri-dataset\n",
    "!unzip -q brain-tumor-mri-dataset.zip"
   ]
  },
  {
   "cell_type": "code",
   "execution_count": null,
   "metadata": {
    "id": "6chRx3JyohT1"
   },
   "outputs": [],
   "source": [
    "# @title Subsampling Validation Data\n",
    "\n",
    "if not os.path.isdir('./Validation/'):\n",
    "  os.mkdir('./Validation/')\n",
    "  classes = os.listdir('./Training/')\n",
    "  training_samples = []\n",
    "  for i in classes:\n",
    "    os.mkdir(f'./Validation/{i}/')\n",
    "    files = os.listdir(f'./Training/{i}/')\n",
    "    for f in files:\n",
    "      training_samples.append(f'/{i}/{f}')\n",
    "  random.shuffle(training_samples)\n",
    "  validation_samples = training_samples[0:1100]\n",
    "  training_samples = training_samples[1100:]\n",
    "  for samp in validation_samples:\n",
    "    os.rename(f'./Training{samp}', f'./Validation{samp}')\n"
   ]
  },
  {
   "cell_type": "code",
   "execution_count": null,
   "metadata": {
    "colab": {
     "base_uri": "https://localhost:8080/"
    },
    "id": "YoHoOxXWrVyr",
    "outputId": "19bcd817-019b-4c67-9367-e18b77300bff"
   },
   "outputs": [],
   "source": [
    "# @title Loading Model\n",
    "Classifier = models.vgg19(weights='DEFAULT')\n",
    "#Replace the classifying linear network with one with custom number of output classes\n",
    "num_features = Classifier.classifier[-1].in_features\n",
    "Classifier.classifier[-1] = nn.Linear(num_features, 4)\n",
    "Classifier.to('cuda')\n",
    "summary(Classifier, (3, 256, 256))"
   ]
  },
  {
   "cell_type": "code",
   "execution_count": null,
   "metadata": {
    "colab": {
     "base_uri": "https://localhost:8080/",
     "height": 487
    },
    "id": "VA46oIgl_qet",
    "outputId": "4efb7a78-7ba6-4537-d310-3d90c6c93662"
   },
   "outputs": [],
   "source": [
    "# @title Dataset Generation\n",
    "#TODO - Verify labels correspond to classes\n",
    "data_transf = transforms.Compose([\n",
    "transforms.Resize((256, 256)),\n",
    "transforms.ToTensor()])\n",
    "\n",
    "TrainingDataset = ImageFolder(root='./Training/', transform=data_transf)#, transform=torchvision.models.VGG19_Weights.IMAGENET1K_V1.transforms)\n",
    "TrainingLoader = DataLoader(TrainingDataset, batch_size=64, shuffle=True)\n",
    "\n",
    "ValidationDataset = ImageFolder(root='./Validation/', transform=data_transf)#, transform=torchvision.models.VGG19_Weights.IMAGENET1K_V1.transforms)\n",
    "ValidationLoader = DataLoader(ValidationDataset, batch_size=64, shuffle=True)\n",
    "\n",
    "for batch_number , (images, labels) in enumerate(TrainingLoader):\n",
    "  print(batch_number, labels)\n",
    "  plt.imshow(torch.moveaxis(images[0], 0, -1))\n",
    "  plt.title(classes[labels[0]])\n",
    "  plt.show()\n",
    "  break"
   ]
  },
  {
   "cell_type": "code",
   "execution_count": null,
   "metadata": {
    "id": "q-ACyWv3qsGh"
   },
   "outputs": [],
   "source": [
    "# Cross Entropy Loss for categorization\n",
    "loss_fn = torch.nn.CrossEntropyLoss()\n",
    "optimizer = torch.optim.SGD(Classifier.parameters(), lr=0.005, momentum=.5)\n",
    "\n",
    "\n",
    "def calc_accuracy(prediction, label):\n",
    "  prediction = torch.argmax(prediction, axis=1)\n",
    "  return (prediction == label).sum()/len(label) * 100\n",
    "\n",
    "\n",
    "def one_epoch(epoch_index):\n",
    "  current_loss = 0\n",
    "  running_loss = 0\n",
    "  acc = []\n",
    "  val_acc = []\n",
    "\n",
    "  for i, data in enumerate(TrainingLoader):\n",
    "    inputs, labels = data\n",
    "\n",
    "    inputs = inputs.to('cuda')\n",
    "    labels = labels.to('cuda')\n",
    "\n",
    "    optimizer.zero_grad()\n",
    "    outputs = Classifier(inputs)\n",
    "    acc.append(calc_accuracy(outputs, labels))\n",
    "    loss = loss_fn(outputs, labels)\n",
    "    loss.backward()\n",
    "\n",
    "    optimizer.step()\n",
    "\n",
    "    current_loss += loss.item()\n",
    "    running_loss += loss.item()\n",
    "    if i % 10 == 9:\n",
    "      print(f'Epoch {epoch_index + 1}, Batch {i + 1}, Loss: {current_loss / 10:.3f}, Running Accuracy {sum(acc)/(i+1)}')\n",
    "      current_loss = 0.0\n",
    "\n",
    "  print(f'Epoch {epoch_index + 1}, Total Loss: {running_loss}, Total Accuracy: {sum(acc)/(i+1)}')\n",
    "  running_loss = 0\n",
    "  print('Validating...')\n",
    "  for i, data in enumerate(ValidationLoader):\n",
    "    inputs, labels = data\n",
    "    inputs = inputs.to('cuda')\n",
    "    labels = labels.to('cuda')\n",
    "    outputs = Classifier(inputs)\n",
    "    val_acc.append(calc_accuracy(outputs, labels))\n",
    "    loss = loss_fn(outputs, labels)\n",
    "    running_loss += loss.item()\n",
    "  print(f'Epoch{epoch_index + 1}, Validation Loss: {running_loss}, Validation Accuracy {sum(val_acc)/(i+1)}')"
   ]
  },
  {
   "cell_type": "code",
   "execution_count": null,
   "metadata": {
    "colab": {
     "base_uri": "https://localhost:8080/",
     "height": 363
    },
    "id": "QxvD6GVlt1CD",
    "outputId": "a4153b79-788e-4e27-851a-2f489d06aee0"
   },
   "outputs": [],
   "source": [
    "for i in range(0,100):\n",
    "  one_epoch(i)\n",
    "\n"
   ]
  }
 ],
 "metadata": {
  "accelerator": "GPU",
  "colab": {
   "authorship_tag": "ABX9TyP70nPwvR++o4mkj5c4EI6M",
   "gpuType": "T4",
   "include_colab_link": true,
   "provenance": []
  },
  "kernelspec": {
   "display_name": "Python 3 (ipykernel)",
   "language": "python",
   "name": "python3"
  },
  "language_info": {
   "codemirror_mode": {
    "name": "ipython",
    "version": 3
   },
   "file_extension": ".py",
   "mimetype": "text/x-python",
   "name": "python",
   "nbconvert_exporter": "python",
   "pygments_lexer": "ipython3",
   "version": "3.11.4"
  }
 },
 "nbformat": 4,
 "nbformat_minor": 1
}
